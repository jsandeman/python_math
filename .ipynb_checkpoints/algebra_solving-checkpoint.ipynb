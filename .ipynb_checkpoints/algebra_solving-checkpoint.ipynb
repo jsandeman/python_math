{
 "cells": [
  {
   "cell_type": "code",
   "execution_count": 2,
   "metadata": {
    "executionInfo": {
     "elapsed": 2650,
     "status": "ok",
     "timestamp": 1601934294408,
     "user": {
      "displayName": "Joshua Sandeman",
      "photoUrl": "https://lh3.googleusercontent.com/a-/AOh14GhdRfNtl5HgXsLRvgxjMtqzHeuZZYwJY45zu4nKYQ=s64",
      "userId": "05916334011484020450"
     },
     "user_tz": 420
    },
    "id": "kgDsAKOUfeX8"
   },
   "outputs": [],
   "source": [
    "from IPython.display import display,Math\n",
    "import sympy as sym\n",
    "\n",
    "sym.init_printing()"
   ]
  },
  {
   "cell_type": "code",
   "execution_count": 3,
   "metadata": {
    "colab": {
     "base_uri": "https://localhost:8080/",
     "height": 38
    },
    "executionInfo": {
     "elapsed": 2640,
     "status": "ok",
     "timestamp": 1601934294410,
     "user": {
      "displayName": "Joshua Sandeman",
      "photoUrl": "https://lh3.googleusercontent.com/a-/AOh14GhdRfNtl5HgXsLRvgxjMtqzHeuZZYwJY45zu4nKYQ=s64",
      "userId": "05916334011484020450"
     },
     "user_tz": 420
    },
    "id": "VX9vFTGsf0IM",
    "outputId": "90a25ccb-91f3-4509-f275-8dce79fb0900"
   },
   "outputs": [
    {
     "data": {
      "text/latex": [
       "$$\\text{The solution to } 2 x - 5 \\text{ is x = } \\frac{5}{2}$$"
      ],
      "text/plain": [
       "<IPython.core.display.Math object>"
      ]
     },
     "metadata": {
      "tags": []
     },
     "output_type": "display_data"
    }
   ],
   "source": [
    "x = sym.symbols('x')\n",
    "\n",
    "expr = 2 * x + 4 - 9\n",
    "sol = sym.solve(expr)[0]\n",
    "\n",
    "display(Math('\\\\text{The solution to } %s \\\\text{ is x = } %s' %(sym.latex(expr), sym.latex(sol))))"
   ]
  },
  {
   "cell_type": "code",
   "execution_count": 4,
   "metadata": {
    "colab": {
     "base_uri": "https://localhost:8080/",
     "height": 51
    },
    "executionInfo": {
     "elapsed": 2631,
     "status": "ok",
     "timestamp": 1601934294412,
     "user": {
      "displayName": "Joshua Sandeman",
      "photoUrl": "https://lh3.googleusercontent.com/a-/AOh14GhdRfNtl5HgXsLRvgxjMtqzHeuZZYwJY45zu4nKYQ=s64",
      "userId": "05916334011484020450"
     },
     "user_tz": 420
    },
    "id": "VNTCzjVzhSx6",
    "outputId": "b79e58cc-0ece-499b-b758-c431a45024af"
   },
   "outputs": [
    {
     "name": "stdout",
     "output_type": "stream",
     "text": [
      "-2\n",
      "2\n"
     ]
    }
   ],
   "source": [
    "ex = x**2 - 4\n",
    "sol = sym.solve(ex)\n",
    "\n",
    "for s in sol:\n",
    "  print(s)"
   ]
  },
  {
   "cell_type": "code",
   "execution_count": 9,
   "metadata": {
    "colab": {
     "base_uri": "https://localhost:8080/",
     "height": 59
    },
    "executionInfo": {
     "elapsed": 940,
     "status": "ok",
     "timestamp": 1601935102071,
     "user": {
      "displayName": "Joshua Sandeman",
      "photoUrl": "https://lh3.googleusercontent.com/a-/AOh14GhdRfNtl5HgXsLRvgxjMtqzHeuZZYwJY45zu4nKYQ=s64",
      "userId": "05916334011484020450"
     },
     "user_tz": 420
    },
    "id": "BODLiscwoPnQ",
    "outputId": "4d133a24-59a9-4bab-ce83-faa2e6ee4fb3"
   },
   "outputs": [
    {
     "data": {
      "text/latex": [
       "$$\\frac{x}{20} \\left(- \\sqrt{40 x + 9} + 3\\right)$$"
      ],
      "text/plain": [
       "<IPython.core.display.Math object>"
      ]
     },
     "metadata": {
      "tags": []
     },
     "output_type": "display_data"
    },
    {
     "data": {
      "text/latex": [
       "$$\\frac{x}{20} \\left(\\sqrt{40 x + 9} + 3\\right)$$"
      ],
      "text/plain": [
       "<IPython.core.display.Math object>"
      ]
     },
     "metadata": {
      "tags": []
     },
     "output_type": "display_data"
    }
   ],
   "source": [
    "y = sym.symbols('y')\n",
    "\n",
    "ex2 = x**3 + 3 * x * y - 10 * y**2\n",
    "\n",
    "sol2 = sym.solve(ex2, y)\n",
    "for s in sol2:\n",
    "  display(Math(sym.latex(s)))"
   ]
  },
  {
   "cell_type": "code",
   "execution_count": null,
   "metadata": {
    "executionInfo": {
     "elapsed": 2622,
     "status": "aborted",
     "timestamp": 1601934294414,
     "user": {
      "displayName": "Joshua Sandeman",
      "photoUrl": "https://lh3.googleusercontent.com/a-/AOh14GhdRfNtl5HgXsLRvgxjMtqzHeuZZYwJY45zu4nKYQ=s64",
      "userId": "05916334011484020450"
     },
     "user_tz": 420
    },
    "id": "YDBqqOJ_uQQ4"
   },
   "outputs": [],
   "source": []
  }
 ],
 "metadata": {
  "colab": {
   "authorship_tag": "ABX9TyOkSlSeeaEvv1bsKIPY/rJb",
   "name": "algebra_solving.ipynb",
   "provenance": []
  },
  "kernelspec": {
   "display_name": "Python 3",
   "language": "python",
   "name": "python3"
  },
  "language_info": {
   "codemirror_mode": {
    "name": "ipython",
    "version": 3
   },
   "file_extension": ".py",
   "mimetype": "text/x-python",
   "name": "python",
   "nbconvert_exporter": "python",
   "pygments_lexer": "ipython3",
   "version": "3.8.5"
  }
 },
 "nbformat": 4,
 "nbformat_minor": 1
}
