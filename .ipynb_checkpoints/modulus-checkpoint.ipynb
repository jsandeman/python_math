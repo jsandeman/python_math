{
 "cells": [
  {
   "cell_type": "code",
   "execution_count": 1,
   "metadata": {},
   "outputs": [
    {
     "name": "stdout",
     "output_type": "stream",
     "text": [
      "-5 is odd\n",
      "-4 is even\n",
      "-3 is odd\n",
      "-2 is even\n",
      "-1 is odd\n",
      "0 is even\n",
      "1 is odd\n",
      "2 is even\n",
      "3 is odd\n",
      "4 is even\n",
      "5 is odd\n"
     ]
    }
   ],
   "source": [
    "for n in range(-5,6):\n",
    "    if n%2 == 0:\n",
    "        print('%g is even' %n)\n",
    "    else:\n",
    "        print('%g is odd' %n)\n"
   ]
  },
  {
   "cell_type": "code",
   "execution_count": 5,
   "metadata": {},
   "outputs": [
    {
     "name": "stdin",
     "output_type": "stream",
     "text": [
      "Enter a number:  10\n",
      "Enter another number:  2\n",
      "(p)ower or (q)uotient?  q\n"
     ]
    },
    {
     "data": {
      "text/latex": [
       "$\\displaystyle 10/2 = 5$"
      ],
      "text/plain": [
       "<IPython.core.display.Math object>"
      ]
     },
     "metadata": {},
     "output_type": "display_data"
    }
   ],
   "source": [
    "from IPython.display import display, Math\n",
    "def power(x, y):\n",
    "    return x**y\n",
    "\n",
    "def div(x, y):\n",
    "    return x/y\n",
    "\n",
    "a = float(input('Enter a number: '))\n",
    "b = float(input('Enter another number: '))\n",
    "c = input('(p)ower or (q)uotient? ')\n",
    "if c == 'p':\n",
    "    ans = power(a,b)\n",
    "    display(Math('%g^%g = %g' %(a,b,ans)))\n",
    "elif c == 'q':\n",
    "    ans = div(a,b)\n",
    "    display(Math('\\\\frac{%g}{%g} = %g' %(a,b,ans)))"
   ]
  },
  {
   "cell_type": "code",
   "execution_count": null,
   "metadata": {},
   "outputs": [],
   "source": []
  }
 ],
 "metadata": {
  "kernelspec": {
   "display_name": "Python 3",
   "language": "python",
   "name": "python3"
  },
  "language_info": {
   "codemirror_mode": {
    "name": "ipython",
    "version": 3
   },
   "file_extension": ".py",
   "mimetype": "text/x-python",
   "name": "python",
   "nbconvert_exporter": "python",
   "pygments_lexer": "ipython3",
   "version": "3.8.3"
  }
 },
 "nbformat": 4,
 "nbformat_minor": 4
}
