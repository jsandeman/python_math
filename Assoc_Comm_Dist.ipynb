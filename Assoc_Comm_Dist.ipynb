{
 "cells": [
  {
   "cell_type": "code",
   "execution_count": 1,
   "metadata": {
    "executionInfo": {
     "elapsed": 424,
     "status": "ok",
     "timestamp": 1602418587389,
     "user": {
      "displayName": "Joshua Sandeman",
      "photoUrl": "https://lh3.googleusercontent.com/a-/AOh14GhdRfNtl5HgXsLRvgxjMtqzHeuZZYwJY45zu4nKYQ=s64",
      "userId": "05916334011484020450"
     },
     "user_tz": 420
    },
    "id": "D7yLgl4mhEkp"
   },
   "outputs": [],
   "source": [
    "import sympy as sym\n",
    "from IPython.display import display, Math"
   ]
  },
  {
   "cell_type": "code",
   "execution_count": 2,
   "metadata": {
    "colab": {
     "base_uri": "https://localhost:8080/",
     "height": 47
    },
    "executionInfo": {
     "elapsed": 636,
     "status": "ok",
     "timestamp": 1602418631417,
     "user": {
      "displayName": "Joshua Sandeman",
      "photoUrl": "https://lh3.googleusercontent.com/a-/AOh14GhdRfNtl5HgXsLRvgxjMtqzHeuZZYwJY45zu4nKYQ=s64",
      "userId": "05916334011484020450"
     },
     "user_tz": 420
    },
    "id": "ieif83b3h8Q1",
    "outputId": "a5636d49-3722-4aa3-8f4d-9566d0c84b37"
   },
   "outputs": [
    {
     "data": {
      "text/latex": [
       "$\\displaystyle \\frac{\\left(3 w^{6} + \\left(- w^{3} \\left(w - 4\\right) + w + 1\\right)^{3}\\right) \\left(y + z\\right)}{w^{6}}$"
      ],
      "text/plain": [
       "<IPython.core.display.Math object>"
      ]
     },
     "metadata": {},
     "output_type": "display_data"
    }
   ],
   "source": [
    "w,x,y,z = sym.symbols('w x y z')\n",
    "\n",
    "x = w * (4 - w) + (1 / w**2) * (1 + w)\n",
    "f1 = x * (y + z)\n",
    "f2 = (3 / x) + x**2\n",
    "\n",
    "display(Math(sym.latex(sym.simplify(f1 * f2))))"
   ]
  },
  {
   "cell_type": "code",
   "execution_count": 3,
   "metadata": {
    "colab": {
     "base_uri": "https://localhost:8080/",
     "height": 51
    },
    "executionInfo": {
     "elapsed": 316,
     "status": "ok",
     "timestamp": 1602418967156,
     "user": {
      "displayName": "Joshua Sandeman",
      "photoUrl": "https://lh3.googleusercontent.com/a-/AOh14GhdRfNtl5HgXsLRvgxjMtqzHeuZZYwJY45zu4nKYQ=s64",
      "userId": "05916334011484020450"
     },
     "user_tz": 420
    },
    "id": "FteMxGd0l7MQ",
    "outputId": "d1c9f4d3-394c-49f6-f2fc-e76960a9695e"
   },
   "outputs": [
    {
     "name": "stdout",
     "output_type": "stream",
     "text": [
      "31\n",
      "31\n"
     ]
    }
   ],
   "source": [
    "f3 = x**2 + y**3\n",
    "f4 = y**3 + x**2\n",
    "print(f3.subs({x : 2, y : 3}))\n",
    "print(f4.subs({x : 2, y : 3}))"
   ]
  },
  {
   "cell_type": "code",
   "execution_count": null,
   "metadata": {
    "id": "QMf4GNV9nNs7"
   },
   "outputs": [],
   "source": []
  }
 ],
 "metadata": {
  "colab": {
   "authorship_tag": "ABX9TyNGWAOM70B4+RIvJAfb6k2y",
   "mount_file_id": "1CNQA-9B29Km_ssjUhMY-AZs7VqwpTlCi",
   "name": "Assoc_Comm_Dist.ipynb",
   "provenance": []
  },
  "kernelspec": {
   "display_name": "Python 3",
   "language": "python",
   "name": "python3"
  },
  "language_info": {
   "codemirror_mode": {
    "name": "ipython",
    "version": 3
   },
   "file_extension": ".py",
   "mimetype": "text/x-python",
   "name": "python",
   "nbconvert_exporter": "python",
   "pygments_lexer": "ipython3",
   "version": "3.8.5"
  }
 },
 "nbformat": 4,
 "nbformat_minor": 1
}
