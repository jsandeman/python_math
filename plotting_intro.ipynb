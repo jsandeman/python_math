{
 "cells": [
  {
   "cell_type": "code",
   "execution_count": 8,
   "metadata": {
    "executionInfo": {
     "elapsed": 1205,
     "status": "ok",
     "timestamp": 1603840379708,
     "user": {
      "displayName": "Joshua Sandeman",
      "photoUrl": "https://lh3.googleusercontent.com/a-/AOh14GhdRfNtl5HgXsLRvgxjMtqzHeuZZYwJY45zu4nKYQ=s64",
      "userId": "05916334011484020450"
     },
     "user_tz": 420
    },
    "id": "EEIlCDTQ6IYs"
   },
   "outputs": [],
   "source": [
    "import matplotlib.pyplot as plt"
   ]
  },
  {
   "cell_type": "code",
   "execution_count": 9,
   "metadata": {
    "colab": {
     "base_uri": "https://localhost:8080/",
     "height": 269
    },
    "executionInfo": {
     "elapsed": 1813,
     "status": "ok",
     "timestamp": 1603840380328,
     "user": {
      "displayName": "Joshua Sandeman",
      "photoUrl": "https://lh3.googleusercontent.com/a-/AOh14GhdRfNtl5HgXsLRvgxjMtqzHeuZZYwJY45zu4nKYQ=s64",
      "userId": "05916334011484020450"
     },
     "user_tz": 420
    },
    "id": "xr7f9kMD605X",
    "outputId": "d4506f66-a5a1-4c28-a2a4-2a2b6924f569"
   },
   "outputs": [
    {
     "data": {
      "image/png": "[encoded data removed]",
      "text/plain": [
       "<Figure size 432x288 with 1 Axes>"
      ]
     },
     "metadata": {
      "needs_background": "light",
      "tags": []
     },
     "output_type": "display_data"
    }
   ],
   "source": [
    "x = 3\n",
    "y = 5\n",
    "\n",
    "plt.plot(x, y, 'ro')\n",
    "\n",
    "plt.axis('square')\n",
    "plt.axis([-6,6,-6,6])\n",
    "plt.grid()\n",
    "\n",
    "plt.show()"
   ]
  },
  {
   "cell_type": "code",
   "execution_count": 10,
   "metadata": {
    "colab": {
     "base_uri": "https://localhost:8080/",
     "height": 269
    },
    "executionInfo": {
     "elapsed": 1810,
     "status": "ok",
     "timestamp": 1603840380332,
     "user": {
      "displayName": "Joshua Sandeman",
      "photoUrl": "https://lh3.googleusercontent.com/a-/AOh14GhdRfNtl5HgXsLRvgxjMtqzHeuZZYwJY45zu4nKYQ=s64",
      "userId": "05916334011484020450"
     },
     "user_tz": 420
    },
    "id": "y0xwJb3jQUJ4",
    "outputId": "258ea8fb-f57f-4f77-b369-5f98491ba381"
   },
   "outputs": [
    {
     "data": {
      "image/png": "[encoded data removed]",
      "text/plain": [
       "<Figure size 432x288 with 1 Axes>"
      ]
     },
     "metadata": {
      "needs_background": "light",
      "tags": []
     },
     "output_type": "display_data"
    }
   ],
   "source": [
    "x = range(-10, 12)\n",
    "y = [(n**2 - 3*n) for n in x]\n",
    "\n",
    "plt.plot(x, y, 'bo')\n",
    "plt.axis([-10,20, -20, 120])\n",
    "plt.grid()\n",
    "plt.show()"
   ]
  }
 ],
 "metadata": {
  "colab": {
   "authorship_tag": "ABX9TyNuitEsx3FINLqlZ39k9+CQ",
   "name": "plotting_intro.ipynb",
   "provenance": []
  },
  "kernelspec": {
   "display_name": "Python 3",
   "language": "python",
   "name": "python3"
  },
  "language_info": {
   "codemirror_mode": {
    "name": "ipython",
    "version": 3
   },
   "file_extension": ".py",
   "mimetype": "text/x-python",
   "name": "python",
   "nbconvert_exporter": "python",
   "pygments_lexer": "ipython3",
   "version": "3.8.5"
  }
 },
 "nbformat": 4,
 "nbformat_minor": 4
}
