{
 "cells": [
  {
   "cell_type": "code",
   "execution_count": 2,
   "metadata": {},
   "outputs": [
    {
     "name": "stdout",
     "output_type": "stream",
     "text": [
      "1^-1 = 1\n",
      "1^-2 = 1\n",
      "1^-3 = 1\n",
      "1^-4 = 1\n",
      "2^-1 = 0.5\n",
      "2^-2 = 0.25\n",
      "2^-3 = 0.125\n",
      "2^-4 = 0.0625\n",
      "3^-1 = 0.333333\n",
      "3^-2 = 0.111111\n",
      "3^-3 = 0.037037\n",
      "3^-4 = 0.0123457\n"
     ]
    }
   ],
   "source": [
    "for i in range(1,4):\n",
    "    for j in range(1,5):\n",
    "        print(\"%g^-%g = %g\" %(i, j, i**(-j)))"
   ]
  },
  {
   "cell_type": "code",
   "execution_count": null,
   "metadata": {},
   "outputs": [],
   "source": []
  }
 ],
 "metadata": {
  "kernelspec": {
   "display_name": "Python 3",
   "language": "python",
   "name": "python3"
  },
  "language_info": {
   "codemirror_mode": {
    "name": "ipython",
    "version": 3
   },
   "file_extension": ".py",
   "mimetype": "text/x-python",
   "name": "python",
   "nbconvert_exporter": "python",
   "pygments_lexer": "ipython3",
   "version": "3.8.3"
  }
 },
 "nbformat": 4,
 "nbformat_minor": 4
}
